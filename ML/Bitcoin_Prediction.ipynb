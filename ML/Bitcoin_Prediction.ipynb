{
 "cells": [
  {
   "cell_type": "code",
   "execution_count": 1,
   "id": "98fd0b86",
   "metadata": {},
   "outputs": [],
   "source": [
    "import numpy as np\n",
    "import pandas as pd\n",
    "from matplotlib import pyplot as plt\n",
    "import warnings\n",
    "warnings.filterwarnings('ignore')"
   ]
  },
  {
   "cell_type": "code",
   "execution_count": 2,
   "id": "a3bc85e7",
   "metadata": {},
   "outputs": [],
   "source": [
    "df = pd.read_csv('BitcoinPrice.csv')"
   ]
  },
  {
   "cell_type": "code",
   "execution_count": 3,
   "id": "69b22575",
   "metadata": {},
   "outputs": [
    {
     "data": {
      "text/html": [
       "<div>\n",
       "<style scoped>\n",
       "    .dataframe tbody tr th:only-of-type {\n",
       "        vertical-align: middle;\n",
       "    }\n",
       "\n",
       "    .dataframe tbody tr th {\n",
       "        vertical-align: top;\n",
       "    }\n",
       "\n",
       "    .dataframe thead th {\n",
       "        text-align: right;\n",
       "    }\n",
       "</style>\n",
       "<table border=\"1\" class=\"dataframe\">\n",
       "  <thead>\n",
       "    <tr style=\"text-align: right;\">\n",
       "      <th></th>\n",
       "      <th>Date</th>\n",
       "      <th>Price</th>\n",
       "    </tr>\n",
       "  </thead>\n",
       "  <tbody>\n",
       "    <tr>\n",
       "      <th>0</th>\n",
       "      <td>2018-08-25 00:00:00</td>\n",
       "      <td>6719.429231</td>\n",
       "    </tr>\n",
       "    <tr>\n",
       "      <th>1</th>\n",
       "      <td>2018-08-26 00:00:00</td>\n",
       "      <td>6673.274167</td>\n",
       "    </tr>\n",
       "    <tr>\n",
       "      <th>2</th>\n",
       "      <td>2018-08-27 00:00:00</td>\n",
       "      <td>6719.266154</td>\n",
       "    </tr>\n",
       "    <tr>\n",
       "      <th>3</th>\n",
       "      <td>2018-08-28 00:00:00</td>\n",
       "      <td>7000.040000</td>\n",
       "    </tr>\n",
       "    <tr>\n",
       "      <th>4</th>\n",
       "      <td>2018-08-29 00:00:00</td>\n",
       "      <td>7054.276429</td>\n",
       "    </tr>\n",
       "  </tbody>\n",
       "</table>\n",
       "</div>"
      ],
      "text/plain": [
       "                  Date        Price\n",
       "0  2018-08-25 00:00:00  6719.429231\n",
       "1  2018-08-26 00:00:00  6673.274167\n",
       "2  2018-08-27 00:00:00  6719.266154\n",
       "3  2018-08-28 00:00:00  7000.040000\n",
       "4  2018-08-29 00:00:00  7054.276429"
      ]
     },
     "execution_count": 3,
     "metadata": {},
     "output_type": "execute_result"
    }
   ],
   "source": [
    "df.head()"
   ]
  },
  {
   "cell_type": "code",
   "execution_count": 4,
   "id": "683674dc",
   "metadata": {},
   "outputs": [
    {
     "name": "stdout",
     "output_type": "stream",
     "text": [
      "<class 'pandas.core.frame.DataFrame'>\n",
      "RangeIndex: 365 entries, 0 to 364\n",
      "Data columns (total 2 columns):\n",
      " #   Column  Non-Null Count  Dtype  \n",
      "---  ------  --------------  -----  \n",
      " 0   Date    365 non-null    object \n",
      " 1   Price   365 non-null    float64\n",
      "dtypes: float64(1), object(1)\n",
      "memory usage: 5.8+ KB\n"
     ]
    }
   ],
   "source": [
    "df.info()"
   ]
  },
  {
   "cell_type": "code",
   "execution_count": 5,
   "id": "8863e984",
   "metadata": {},
   "outputs": [],
   "source": [
    "df.drop(['Date'], 1, inplace=True)"
   ]
  },
  {
   "cell_type": "code",
   "execution_count": 7,
   "id": "b3fb57f5",
   "metadata": {},
   "outputs": [],
   "source": [
    "p_days = 30\n",
    "df['Prediction']=df[['Price']].shift(-p_days)\n"
   ]
  },
  {
   "cell_type": "code",
   "execution_count": 10,
   "id": "bf7fd494",
   "metadata": {},
   "outputs": [
    {
     "data": {
      "text/html": [
       "<div>\n",
       "<style scoped>\n",
       "    .dataframe tbody tr th:only-of-type {\n",
       "        vertical-align: middle;\n",
       "    }\n",
       "\n",
       "    .dataframe tbody tr th {\n",
       "        vertical-align: top;\n",
       "    }\n",
       "\n",
       "    .dataframe thead th {\n",
       "        text-align: right;\n",
       "    }\n",
       "</style>\n",
       "<table border=\"1\" class=\"dataframe\">\n",
       "  <thead>\n",
       "    <tr style=\"text-align: right;\">\n",
       "      <th></th>\n",
       "      <th>Price</th>\n",
       "      <th>Prediction</th>\n",
       "    </tr>\n",
       "  </thead>\n",
       "  <tbody>\n",
       "    <tr>\n",
       "      <th>360</th>\n",
       "      <td>10746.507692</td>\n",
       "      <td>NaN</td>\n",
       "    </tr>\n",
       "    <tr>\n",
       "      <th>361</th>\n",
       "      <td>10169.094167</td>\n",
       "      <td>NaN</td>\n",
       "    </tr>\n",
       "    <tr>\n",
       "      <th>362</th>\n",
       "      <td>10030.746667</td>\n",
       "      <td>NaN</td>\n",
       "    </tr>\n",
       "    <tr>\n",
       "      <th>363</th>\n",
       "      <td>10255.977500</td>\n",
       "      <td>NaN</td>\n",
       "    </tr>\n",
       "    <tr>\n",
       "      <th>364</th>\n",
       "      <td>10158.540833</td>\n",
       "      <td>NaN</td>\n",
       "    </tr>\n",
       "  </tbody>\n",
       "</table>\n",
       "</div>"
      ],
      "text/plain": [
       "            Price  Prediction\n",
       "360  10746.507692         NaN\n",
       "361  10169.094167         NaN\n",
       "362  10030.746667         NaN\n",
       "363  10255.977500         NaN\n",
       "364  10158.540833         NaN"
      ]
     },
     "execution_count": 10,
     "metadata": {},
     "output_type": "execute_result"
    }
   ],
   "source": [
    "df.tail()"
   ]
  },
  {
   "cell_type": "code",
   "execution_count": 11,
   "id": "20fceb52",
   "metadata": {},
   "outputs": [],
   "source": [
    "# seperate x and y\n",
    "\n",
    "x = np.array(df.drop(['Prediction'], 1))\n",
    "x = x[: len(df) - p_days]"
   ]
  },
  {
   "cell_type": "code",
   "execution_count": 14,
   "id": "c478c7cf",
   "metadata": {},
   "outputs": [
    {
     "data": {
      "text/plain": [
       "(335, 1)"
      ]
     },
     "execution_count": 14,
     "metadata": {},
     "output_type": "execute_result"
    }
   ],
   "source": [
    "x.shape"
   ]
  },
  {
   "cell_type": "code",
   "execution_count": 15,
   "id": "b51269d6",
   "metadata": {},
   "outputs": [],
   "source": [
    "y = np.array(df['Prediction'])\n",
    "y = y[: -p_days]"
   ]
  },
  {
   "cell_type": "code",
   "execution_count": 16,
   "id": "0813a2ac",
   "metadata": {},
   "outputs": [],
   "source": [
    "# split the data\n",
    "from sklearn.model_selection import train_test_split"
   ]
  },
  {
   "cell_type": "code",
   "execution_count": 17,
   "id": "24583cb1",
   "metadata": {},
   "outputs": [],
   "source": [
    "x_train, x_test, y_train, y_test = train_test_split(x, y, test_size=0.2)"
   ]
  },
  {
   "cell_type": "code",
   "execution_count": 22,
   "id": "381e582d",
   "metadata": {},
   "outputs": [],
   "source": [
    "p_days_array = np.array(df.drop(['Prediction'], 1))[-p_days :]"
   ]
  },
  {
   "cell_type": "code",
   "execution_count": 23,
   "id": "c3ec3e4a",
   "metadata": {
    "scrolled": true
   },
   "outputs": [
    {
     "name": "stdout",
     "output_type": "stream",
     "text": [
      "[[ 9774.2575    ]\n",
      " [ 9725.4025    ]\n",
      " [ 9500.32416667]\n",
      " [ 9533.97933333]\n",
      " [ 9539.7125    ]\n",
      " [ 9873.81166667]\n",
      " [10088.8       ]\n",
      " [10478.90166667]\n",
      " [10790.63      ]\n",
      " [10826.275     ]\n",
      " [11713.16166667]\n",
      " [11759.01916667]\n",
      " [11703.73833333]\n",
      " [11803.88833333]\n",
      " [11816.9125    ]\n",
      " [11586.1725    ]\n",
      " [11377.80416667]\n",
      " [11397.80166667]\n",
      " [11144.38916667]\n",
      " [10450.81333333]\n",
      " [ 9988.9475    ]\n",
      " [10230.73333333]\n",
      " [10292.38333333]\n",
      " [10295.1175    ]\n",
      " [10605.82583333]\n",
      " [10746.50769231]\n",
      " [10169.09416667]\n",
      " [10030.74666667]\n",
      " [10255.9775    ]\n",
      " [10158.54083333]]\n"
     ]
    }
   ],
   "source": [
    "print(p_days_array)"
   ]
  },
  {
   "cell_type": "code",
   "execution_count": 25,
   "id": "12950f3c",
   "metadata": {},
   "outputs": [],
   "source": [
    "from sklearn.ensemble import RandomForestRegressor"
   ]
  },
  {
   "cell_type": "code",
   "execution_count": 26,
   "id": "bf249f8c",
   "metadata": {},
   "outputs": [
    {
     "name": "stdout",
     "output_type": "stream",
     "text": [
      "Random Forest Accuracy: 90.77%\n"
     ]
    }
   ],
   "source": [
    "RF = RandomForestRegressor(n_estimators=1000, random_state=1)\n",
    "RF.fit(x_train, y_train)\n",
    "print('Random Forest Accuracy: {:.2f}%'.format(RF.score(x_test, y_test)*100))"
   ]
  },
  {
   "cell_type": "code",
   "execution_count": 27,
   "id": "02d73429",
   "metadata": {},
   "outputs": [
    {
     "name": "stdout",
     "output_type": "stream",
     "text": [
      "[ 3888.19046053 10366.10792929  3705.82191917  3646.68001583\n",
      " 10285.50093006  3969.57089917 11474.57577083  3804.81286\n",
      "  3869.16931071 10356.39958167  7397.55898333 10366.10792929\n",
      "  5848.28602333  6490.54205517  3814.6020641   3971.63103833\n",
      "  7296.79694333  5198.49892333  4904.95280917  3940.10506014\n",
      "  6381.86186762  3748.00067691  3983.90551833  9816.1996425\n",
      "  5271.66880083  6957.822685   10590.60495833  3790.48138276\n",
      "  3866.222425    3570.12472321  4082.89353583  3961.14434833\n",
      "  9136.95463583  3834.54353532  8299.26606333  7492.51052833\n",
      "  3786.82738333  6443.6591325   3664.95858437 10131.088885\n",
      " 11474.57577083  3883.3395      3847.07962441  4944.98473167\n",
      "  4986.03192558  4398.0364125   6437.49095006  5102.3900509\n",
      " 10238.15559083 11413.722365    3967.49401122  6507.788163\n",
      "  6857.77223967  7664.98714968 10215.70977333  3600.74559833\n",
      "  4730.96063333  7445.27817167  6437.49095006  4398.0364125\n",
      "  3961.14434833  4003.50396333  3646.68001583  6714.0180925\n",
      "  3745.63036583  7210.72135583  3826.09387917]\n"
     ]
    }
   ],
   "source": [
    "# Prediction\n",
    "RF_predict = RF.predict(x_test)\n",
    "print(RF_predict)"
   ]
  },
  {
   "cell_type": "code",
   "execution_count": 28,
   "id": "157b381f",
   "metadata": {},
   "outputs": [
    {
     "name": "stdout",
     "output_type": "stream",
     "text": [
      "[10437.891295   10312.39907083 10193.23264917 10245.55307667\n",
      " 10245.55307667 10421.91404417 10131.088885   10285.50093006\n",
      " 10160.76581981 10115.46789481  9991.75427583 10830.34607817\n",
      " 10026.45471083 11215.40413467 10254.241878   11188.5523975\n",
      " 11417.03154    11411.72773667 11074.39087833 10285.50093006\n",
      " 10254.1521875  10063.44151808 10063.44488808 10063.44488808\n",
      " 10580.85780776 10157.76163481 10048.296285   10238.15559083\n",
      " 10063.68424474 10124.9986625 ]\n"
     ]
    }
   ],
   "source": [
    "# model prediction for 30 days\n",
    "RF_predict_30 = RF.predict(p_days_array)\n",
    "print(RF_predict_30)"
   ]
  },
  {
   "cell_type": "code",
   "execution_count": 31,
   "id": "955a4c0f",
   "metadata": {},
   "outputs": [
    {
     "data": {
      "text/html": [
       "<div>\n",
       "<style scoped>\n",
       "    .dataframe tbody tr th:only-of-type {\n",
       "        vertical-align: middle;\n",
       "    }\n",
       "\n",
       "    .dataframe tbody tr th {\n",
       "        vertical-align: top;\n",
       "    }\n",
       "\n",
       "    .dataframe thead th {\n",
       "        text-align: right;\n",
       "    }\n",
       "</style>\n",
       "<table border=\"1\" class=\"dataframe\">\n",
       "  <thead>\n",
       "    <tr style=\"text-align: right;\">\n",
       "      <th></th>\n",
       "      <th>Price</th>\n",
       "      <th>Prediction</th>\n",
       "    </tr>\n",
       "  </thead>\n",
       "  <tbody>\n",
       "    <tr>\n",
       "      <th>0</th>\n",
       "      <td>6719.429231</td>\n",
       "      <td>6639.304167</td>\n",
       "    </tr>\n",
       "    <tr>\n",
       "      <th>1</th>\n",
       "      <td>6673.274167</td>\n",
       "      <td>6412.459167</td>\n",
       "    </tr>\n",
       "    <tr>\n",
       "      <th>2</th>\n",
       "      <td>6719.266154</td>\n",
       "      <td>6468.631667</td>\n",
       "    </tr>\n",
       "    <tr>\n",
       "      <th>3</th>\n",
       "      <td>7000.040000</td>\n",
       "      <td>6535.476667</td>\n",
       "    </tr>\n",
       "    <tr>\n",
       "      <th>4</th>\n",
       "      <td>7054.276429</td>\n",
       "      <td>6677.342500</td>\n",
       "    </tr>\n",
       "    <tr>\n",
       "      <th>5</th>\n",
       "      <td>6932.662500</td>\n",
       "      <td>6550.474167</td>\n",
       "    </tr>\n",
       "    <tr>\n",
       "      <th>6</th>\n",
       "      <td>6981.946154</td>\n",
       "      <td>6593.135000</td>\n",
       "    </tr>\n",
       "    <tr>\n",
       "      <th>7</th>\n",
       "      <td>7100.946667</td>\n",
       "      <td>6590.968333</td>\n",
       "    </tr>\n",
       "    <tr>\n",
       "      <th>8</th>\n",
       "      <td>7247.935385</td>\n",
       "      <td>6562.641667</td>\n",
       "    </tr>\n",
       "    <tr>\n",
       "      <th>9</th>\n",
       "      <td>7260.949231</td>\n",
       "      <td>6470.402500</td>\n",
       "    </tr>\n",
       "    <tr>\n",
       "      <th>10</th>\n",
       "      <td>7326.852500</td>\n",
       "      <td>6563.628333</td>\n",
       "    </tr>\n",
       "    <tr>\n",
       "      <th>11</th>\n",
       "      <td>7113.069231</td>\n",
       "      <td>6568.549167</td>\n",
       "    </tr>\n",
       "    <tr>\n",
       "      <th>12</th>\n",
       "      <td>6433.271667</td>\n",
       "      <td>6581.486667</td>\n",
       "    </tr>\n",
       "    <tr>\n",
       "      <th>13</th>\n",
       "      <td>6444.804167</td>\n",
       "      <td>6558.537500</td>\n",
       "    </tr>\n",
       "    <tr>\n",
       "      <th>14</th>\n",
       "      <td>6366.107500</td>\n",
       "      <td>6618.567692</td>\n",
       "    </tr>\n",
       "    <tr>\n",
       "      <th>15</th>\n",
       "      <td>6286.425833</td>\n",
       "      <td>6621.711667</td>\n",
       "    </tr>\n",
       "    <tr>\n",
       "      <th>16</th>\n",
       "      <td>6297.877692</td>\n",
       "      <td>6563.009167</td>\n",
       "    </tr>\n",
       "    <tr>\n",
       "      <th>17</th>\n",
       "      <td>6296.320833</td>\n",
       "      <td>6248.635833</td>\n",
       "    </tr>\n",
       "    <tr>\n",
       "      <th>18</th>\n",
       "      <td>6273.137500</td>\n",
       "      <td>6260.530833</td>\n",
       "    </tr>\n",
       "    <tr>\n",
       "      <th>19</th>\n",
       "      <td>6450.179231</td>\n",
       "      <td>6260.645833</td>\n",
       "    </tr>\n",
       "    <tr>\n",
       "      <th>20</th>\n",
       "      <td>6499.062500</td>\n",
       "      <td>6299.399167</td>\n",
       "    </tr>\n",
       "    <tr>\n",
       "      <th>21</th>\n",
       "      <td>6518.655000</td>\n",
       "      <td>6452.571667</td>\n",
       "    </tr>\n",
       "    <tr>\n",
       "      <th>22</th>\n",
       "      <td>6480.644167</td>\n",
       "      <td>6596.618333</td>\n",
       "    </tr>\n",
       "    <tr>\n",
       "      <th>23</th>\n",
       "      <td>6400.600833</td>\n",
       "      <td>6596.276154</td>\n",
       "    </tr>\n",
       "    <tr>\n",
       "      <th>24</th>\n",
       "      <td>6296.631667</td>\n",
       "      <td>6568.040769</td>\n",
       "    </tr>\n",
       "    <tr>\n",
       "      <th>25</th>\n",
       "      <td>6335.826667</td>\n",
       "      <td>6487.444167</td>\n",
       "    </tr>\n",
       "    <tr>\n",
       "      <th>26</th>\n",
       "      <td>6418.562667</td>\n",
       "      <td>6488.825833</td>\n",
       "    </tr>\n",
       "    <tr>\n",
       "      <th>27</th>\n",
       "      <td>6669.990833</td>\n",
       "      <td>6531.601667</td>\n",
       "    </tr>\n",
       "    <tr>\n",
       "      <th>28</th>\n",
       "      <td>6709.312500</td>\n",
       "      <td>6498.485833</td>\n",
       "    </tr>\n",
       "    <tr>\n",
       "      <th>29</th>\n",
       "      <td>6710.445000</td>\n",
       "      <td>6481.426000</td>\n",
       "    </tr>\n",
       "  </tbody>\n",
       "</table>\n",
       "</div>"
      ],
      "text/plain": [
       "          Price   Prediction\n",
       "0   6719.429231  6639.304167\n",
       "1   6673.274167  6412.459167\n",
       "2   6719.266154  6468.631667\n",
       "3   7000.040000  6535.476667\n",
       "4   7054.276429  6677.342500\n",
       "5   6932.662500  6550.474167\n",
       "6   6981.946154  6593.135000\n",
       "7   7100.946667  6590.968333\n",
       "8   7247.935385  6562.641667\n",
       "9   7260.949231  6470.402500\n",
       "10  7326.852500  6563.628333\n",
       "11  7113.069231  6568.549167\n",
       "12  6433.271667  6581.486667\n",
       "13  6444.804167  6558.537500\n",
       "14  6366.107500  6618.567692\n",
       "15  6286.425833  6621.711667\n",
       "16  6297.877692  6563.009167\n",
       "17  6296.320833  6248.635833\n",
       "18  6273.137500  6260.530833\n",
       "19  6450.179231  6260.645833\n",
       "20  6499.062500  6299.399167\n",
       "21  6518.655000  6452.571667\n",
       "22  6480.644167  6596.618333\n",
       "23  6400.600833  6596.276154\n",
       "24  6296.631667  6568.040769\n",
       "25  6335.826667  6487.444167\n",
       "26  6418.562667  6488.825833\n",
       "27  6669.990833  6531.601667\n",
       "28  6709.312500  6498.485833\n",
       "29  6710.445000  6481.426000"
      ]
     },
     "execution_count": 31,
     "metadata": {},
     "output_type": "execute_result"
    }
   ],
   "source": [
    "df.head(30)"
   ]
  },
  {
   "cell_type": "code",
   "execution_count": null,
   "id": "5909810b",
   "metadata": {},
   "outputs": [],
   "source": []
  }
 ],
 "metadata": {
  "kernelspec": {
   "display_name": "Python 3 (ipykernel)",
   "language": "python",
   "name": "python3"
  },
  "language_info": {
   "codemirror_mode": {
    "name": "ipython",
    "version": 3
   },
   "file_extension": ".py",
   "mimetype": "text/x-python",
   "name": "python",
   "nbconvert_exporter": "python",
   "pygments_lexer": "ipython3",
   "version": "3.10.6"
  }
 },
 "nbformat": 4,
 "nbformat_minor": 5
}
